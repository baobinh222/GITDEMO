{
 "cells": [
  {
   "cell_type": "code",
   "execution_count": 14,
   "id": "5dcec33d",
   "metadata": {},
   "outputs": [
    {
     "name": "stdout",
     "output_type": "stream",
     "text": [
      "Nhập Họ và Tên:   NGUYEN    vU   nhaT nAm     \n",
      "Nguyen Vu Nhat Nam\n"
     ]
    }
   ],
   "source": [
    "# Bài 1\n",
    "a = input('Nhập Họ và Tên:') #     nGuyeN  VU    nhAt   nam    \n",
    "a = a.lower()\n",
    "a = a.strip()\n",
    "words = a.split()\n",
    "a = (\" \".join(a.split())).title()\n",
    "print(a)"
   ]
  },
  {
   "cell_type": "code",
   "execution_count": 24,
   "id": "4fa25525",
   "metadata": {},
   "outputs": [
    {
     "name": "stdout",
     "output_type": "stream",
     "text": [
      "Nhập chuỗi:    abc123dj4567892vgf   \n",
      "Tổng các chữ số chẵn =  22\n",
      "Tổng các chữ số lẻ = 25\n"
     ]
    }
   ],
   "source": [
    "# Bài 2\n",
    "b = input('Nhập chuỗi:') #abc123dj4567892vgf\n",
    "#Tổng số chắn\n",
    "sum_even = b.count('2')*2 + b.count('4')*4 + b.count('6')*6 + b.count('8')*8\n",
    "print('Tổng các chữ số chẵn = ',sum_even)\n",
    "\n",
    "#Tổng số lẻ\n",
    "sum_odd = b.count('1')*1 + b.count('3')*3 + b.count('5')*5 + b.count('7')* 7 + b.count('9')*9\n",
    "print('Tổng các chữ số lẻ =',sum_odd)"
   ]
  },
  {
   "cell_type": "code",
   "execution_count": null,
   "id": "3fd1003b",
   "metadata": {},
   "outputs": [],
   "source": []
  }
 ],
 "metadata": {
  "kernelspec": {
   "display_name": "Python 3 (ipykernel)",
   "language": "python",
   "name": "python3"
  },
  "language_info": {
   "codemirror_mode": {
    "name": "ipython",
    "version": 3
   },
   "file_extension": ".py",
   "mimetype": "text/x-python",
   "name": "python",
   "nbconvert_exporter": "python",
   "pygments_lexer": "ipython3",
   "version": "3.9.12"
  }
 },
 "nbformat": 4,
 "nbformat_minor": 5
}
