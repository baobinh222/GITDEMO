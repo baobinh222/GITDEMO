{
 "cells": [
  {
   "cell_type": "code",
   "execution_count": 1,
   "id": "ca365aac",
   "metadata": {},
   "outputs": [
    {
     "name": "stdout",
     "output_type": "stream",
     "text": [
      "Nhập vào số điện tiêu thụ:50\n",
      "Số điện tiêu thụ không hợp lệ!\n"
     ]
    }
   ],
   "source": [
    "#Bài 1: Tính tiền điện tiêu thụ\n",
    "a = int(input('Nhập vào số điện tiêu thụ:'))\n",
    "if a < 50 and a <= 0:\n",
    "    cuoc = 50 * 1678\n",
    "    print('Tiền điện tiêu thụ trong tháng = ',cuoc)\n",
    "elif a > 51 and a < 101:\n",
    "    cuoc = 50 * 1678 + (a - 50) * 1734\n",
    "    print('Tiền điện tiêu thụ trong tháng = ',cuoc)\n",
    "elif a > 100 and a < 201:\n",
    "    cuoc = 50 * 1678 + 50 * 1734 + (a - 100)*2014\n",
    "    print('Tiền điện tiêu thụ trong tháng = ',cuoc)\n",
    "elif a > 200 and a < 301:\n",
    "    cuoc = 50 * 1678 + 50 * 1734 + 100 * 2014 + (a - 200)*2536\n",
    "    print('Tiền điện tiêu thụ trong tháng = ',cuoc)\n",
    "elif a > 300 and a < 401: \n",
    "    cuoc = 50 * 1678 + 50 * 1734 + 100 * 2014 + 100 * 2536 + (a - 300)*2834\n",
    "    print('Tiền điện tiêu thụ trong tháng = ',cuoc)\n",
    "elif a > 400:\n",
    "    cuoc = 50 * 1678 + 50 * 1734 + 100 * 2014 + 100 * 2536 + 100*2834 + (a-400)*2927\n",
    "    print('Tiền điện tiêu thụ trong tháng = ',cuoc) \n",
    "else:\n",
    "    print('Số điện tiêu thụ không hợp lệ!')"
   ]
  },
  {
   "cell_type": "code",
   "execution_count": 18,
   "id": "3b39b193",
   "metadata": {},
   "outputs": [
    {
     "name": "stdout",
     "output_type": "stream",
     "text": [
      "Nhập a =0\n",
      "Nhập b =1\n",
      "Nhập c =2\n",
      " x +2\n"
     ]
    }
   ],
   "source": [
    "#Bài 2:\n",
    "\n",
    "a = int(input('Nhập a ='))\n",
    "b = int(input('Nhập b ='))\n",
    "c = int(input('Nhập c ='))\n",
    "A = str(a)+'x^2'\n",
    "B = str(b)+'x'\n",
    "C = '+' +str(c)\n",
    "\n",
    "if a == 0:\n",
    "    A = ''\n",
    "if b == 0:\n",
    "    B = ''\n",
    "if c == 0:\n",
    "    c = ''\n",
    "if a == 1:\n",
    "    A = 'x^2 +'\n",
    "if b == 1:\n",
    "    B = 'x'\n",
    "if a == -1:\n",
    "    A = '-x^2 +'\n",
    "if b ==-1:\n",
    "    B = '-x'\n",
    "    A = str(a)+'x^2'\n",
    "if c == -1:\n",
    "    C = '-1'\n",
    "print(A,B, C)"
   ]
  },
  {
   "cell_type": "code",
   "execution_count": null,
   "id": "15f8dba7",
   "metadata": {},
   "outputs": [],
   "source": [
    "\n"
   ]
  },
  {
   "cell_type": "code",
   "execution_count": null,
   "id": "af4afb0c",
   "metadata": {},
   "outputs": [],
   "source": []
  }
 ],
 "metadata": {
  "kernelspec": {
   "display_name": "Python 3 (ipykernel)",
   "language": "python",
   "name": "python3"
  },
  "language_info": {
   "codemirror_mode": {
    "name": "ipython",
    "version": 3
   },
   "file_extension": ".py",
   "mimetype": "text/x-python",
   "name": "python",
   "nbconvert_exporter": "python",
   "pygments_lexer": "ipython3",
   "version": "3.9.12"
  }
 },
 "nbformat": 4,
 "nbformat_minor": 5
}
