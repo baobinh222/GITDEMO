{
 "cells": [
  {
   "cell_type": "code",
   "execution_count": 10,
   "id": "f1dc30f2",
   "metadata": {},
   "outputs": [
    {
     "name": "stdout",
     "output_type": "stream",
     "text": [
      "Python programing\n",
      "P\n",
      "17\n",
      "1\n",
      "python programing\n",
      "PYTHON PROGRAMING\n",
      "['Python', 'programing']\n",
      "2\n"
     ]
    }
   ],
   "source": [
    "my_course = \"Python programing\"\n",
    "print(my_course)\n",
    "print(my_course[0])\n",
    "print(len(my_course))\n",
    "\n",
    "count_o = my_course.count('o', 6, len(my_course)-1)\n",
    "print(count_o)\n",
    "print(my_course.lower())\n",
    "print(my_course.upper())\n",
    "words = my_course.split()\n",
    "print(words)\n",
    "print(len(words))"
   ]
  },
  {
   "cell_type": "code",
   "execution_count": null,
   "id": "3539abc6",
   "metadata": {},
   "outputs": [],
   "source": [
    "# len - trả về độ dài chuỗi\n",
    "# count - trả về số lần xuất hiện chuỗi con trong chuỗi\n",
    "# lower, upper - trả về chuỗi dạng chữ thường, hoa. thường được sử dụng để chuẩn hóa chuỗi trc khi so sánh\n",
    "# lstrip - xóa toàn bộ khoảng trắng phía trc (bên trái) chuỗi (phía trên chuỗi)\n",
    "# rstrip - xóa toàn bộ khoảng trắng phía sau (bên phải) chuỗi\n",
    "# strip - \n",
    "# split - chia chuỗi thành nhiều chuỗi nhỏ hơn"
   ]
  },
  {
   "cell_type": "code",
   "execution_count": 23,
   "id": "0580bb06",
   "metadata": {},
   "outputs": [
    {
     "name": "stdout",
     "output_type": "stream",
     "text": [
      "my name is phuong. my full name is vo thi phuong. i am 30 yrs\n",
      "Chuỗi a có chứa ký tự nguyên âm: True\n",
      "Số lượng nguyên âm =  18\n",
      "Số lượng ký tự số =  2\n"
     ]
    }
   ],
   "source": [
    "a = 'My name is Phuong. My full name is Vo Thi Phuong. I am 30 yrs'\n",
    "\n",
    "a = a.lower()\n",
    "print(a)\n",
    "check = 'u' in a or 'e' in a or 'o' in a or 'a' in a or 'i' in a or 'y' in a\n",
    "print('Chuỗi a có chứa ký tự nguyên âm:',check)\n",
    "\n",
    "# đếm số lượng nguyên âm\n",
    "count_nguyen_am = a.count('u') + a.count('e') + a.count('o') + a.count('a') + a.count('i') + a.count('y')\n",
    "print('Số lượng nguyên âm = ', count_nguyen_am)\n",
    "\n",
    "#đếm ký tự số\n",
    "count_so = a.count('0') + a.count('1')+ a.count('2')+ a.count('3')+ a.count('4')+ a.count('5')+ a.count('6')+ a.count('7')+ a.count('8')+ a.count('9')\n",
    "print('Số lượng ký tự số = ',count_so)\n"
   ]
  },
  {
   "cell_type": "code",
   "execution_count": null,
   "id": "8961eb54",
   "metadata": {},
   "outputs": [],
   "source": []
  }
 ],
 "metadata": {
  "kernelspec": {
   "display_name": "Python 3 (ipykernel)",
   "language": "python",
   "name": "python3"
  },
  "language_info": {
   "codemirror_mode": {
    "name": "ipython",
    "version": 3
   },
   "file_extension": ".py",
   "mimetype": "text/x-python",
   "name": "python",
   "nbconvert_exporter": "python",
   "pygments_lexer": "ipython3",
   "version": "3.9.12"
  }
 },
 "nbformat": 4,
 "nbformat_minor": 5
}
