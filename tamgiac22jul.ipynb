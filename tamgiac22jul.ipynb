{
 "cells": [
  {
   "cell_type": "code",
   "execution_count": 9,
   "id": "76b6be03",
   "metadata": {},
   "outputs": [
    {
     "name": "stdout",
     "output_type": "stream",
     "text": [
      "Nhập hoành độ điểm A: 10\n",
      "Nhập tung độ điểm A: 10\n",
      "Nhập hoành độ điểm B: 10\n",
      "Nhập tung độ điểm B: 40\n",
      "Nhập hoành độ điểm C: 50\n",
      "Nhập tung độ điểm C: 10\n",
      "ABC là một tam giác: True\n",
      "Độ dài đường cao AH = 24.0\n",
      "Độ dài đường cao BI = 30.0\n",
      "Độ dài đường cao CK = 40.0\n",
      "Độ dài trung tuyến AO =  25.0\n",
      "Độ dài trung tuyến BP =  36.05551275463989\n",
      "Độ dài trung tuyến CQ =  42.720018726587654\n",
      "Tọa độ trọng tâm G =  ( 23.333333333333332 ,  20.0 )\n"
     ]
    }
   ],
   "source": [
    "import math\n",
    "xa = float(input('Nhập hoành độ điểm A: '))\n",
    "ya = float(input('Nhập tung độ điểm A: '))\n",
    "xb = float(input('Nhập hoành độ điểm B: '))\n",
    "yb = float(input('Nhập tung độ điểm B: '))\n",
    "xc = float(input('Nhập hoành độ điểm C: '))\n",
    "yc = float(input('Nhập tung độ điểm C: '))\n",
    "\n",
    "AB = BA = math.sqrt((xa - xb)**2 + (ya - yb)**2)\n",
    "BC = CB = math.sqrt((xb - xc)**2 + (yb - yc)**2)\n",
    "AC = CA = math.sqrt((xa - xc)**2 + (ya - yc)**2)\n",
    "\n",
    "tamgiac = AB + BC > AC and AB + AC > BC and BC + AC > AB\n",
    "print('ABC là một tam giác:', tamgiac\n",
    "     )\n",
    "# Diện tích tam giác ABC\n",
    "S = 1/4 * math.sqrt((AB + BC + AC)*(AB + BC - AC)*(AB + AC - BC)*(BC + AC - AB))\n",
    "\n",
    "# Đường cao AJ\n",
    "AJ = 2*S/BC\n",
    "print('Độ dài đường cao AH =', AH)\n",
    "\n",
    "# Đường cao BI\n",
    "BI = 2*S/AC\n",
    "print('Độ dài đường cao BI =', BI)\n",
    "\n",
    "# Đường cao CK\n",
    "CK = 2*S/AB\n",
    "print('Độ dài đường cao CK =', CK)\n",
    "\n",
    "# Đường trung tuyến AO\n",
    "AO = math.sqrt(((AB**2 + AC**2)/2)-(BC**2/4))\n",
    "print('Độ dài trung tuyến AO = ', AO)\n",
    "\n",
    "# Đường trung tuyến BP\n",
    "BP = math.sqrt(((BC**2 + BA**2)/2) - AC**2/4)\n",
    "print('Độ dài trung tuyến BP = ', BP)\n",
    "\n",
    "# Đường trung tuyến CQ\n",
    "CQ = math.sqrt(((CA**2 + CB**2)/2) - AB**2/4)\n",
    "print('Độ dài trung tuyến CQ = ', CQ)\n",
    "\n",
    "# Tọa độ trọng tâm G\n",
    "xg = (xa + xb + xc)/3\n",
    "yg = (ya + yb + yc)/3\n",
    "print('Tọa độ trọng tâm G = ','(',xg,', ',yg,')')\n",
    "\n"
   ]
  },
  {
   "cell_type": "code",
   "execution_count": null,
   "id": "55ebb7e2",
   "metadata": {},
   "outputs": [],
   "source": []
  }
 ],
 "metadata": {
  "kernelspec": {
   "display_name": "Python 3 (ipykernel)",
   "language": "python",
   "name": "python3"
  },
  "language_info": {
   "codemirror_mode": {
    "name": "ipython",
    "version": 3
   },
   "file_extension": ".py",
   "mimetype": "text/x-python",
   "name": "python",
   "nbconvert_exporter": "python",
   "pygments_lexer": "ipython3",
   "version": "3.9.12"
  }
 },
 "nbformat": 4,
 "nbformat_minor": 5
}
