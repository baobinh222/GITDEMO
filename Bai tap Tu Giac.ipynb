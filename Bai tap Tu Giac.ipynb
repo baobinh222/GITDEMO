{
 "cells": [
  {
   "cell_type": "code",
   "execution_count": 3,
   "id": "aea2d04f",
   "metadata": {},
   "outputs": [
    {
     "name": "stdout",
     "output_type": "stream",
     "text": [
      "Nhập hoành độ điểm A: 30\n",
      "Nhập tung độ điểm A: 30\n",
      "Nhập hoành độ điểm B: 80\n",
      "Nhập tung độ điểm B: 70\n",
      "Nhập hoành độ điểm C: 10\n",
      "Nhập tung độ điểm C: 50\n",
      "Nhập hoành độ điểm D: 40\n",
      "Nhập tung độ điểm D: 70\n",
      "S1: 899.9999999999999\n",
      "S2: 799.9999999999999\n",
      "S3: 499.9999999999999\n",
      "S4: 399.9999999999998\n",
      "Tứ Giác Lõm: False\n",
      "Tứ Giác Lồi: True\n"
     ]
    }
   ],
   "source": [
    "# Bài 2: tứ giác\n",
    "\n",
    "import math\n",
    "xa = float(input('Nhập hoành độ điểm A: '))\n",
    "ya = float(input('Nhập tung độ điểm A: '))\n",
    "xb = float(input('Nhập hoành độ điểm B: '))\n",
    "yb = float(input('Nhập tung độ điểm B: '))\n",
    "xc = float(input('Nhập hoành độ điểm C: '))\n",
    "yc = float(input('Nhập tung độ điểm C: '))\n",
    "xd = float(input('Nhập hoành độ điểm D: '))\n",
    "yd = float(input('Nhập tung độ điểm D: '))\n",
    "\n",
    "\n",
    "AB = math.sqrt((xa - xb)**2 + (ya - yb)**2)\n",
    "BC = math.sqrt((xb - xc)**2 + (yb - yc)**2)\n",
    "CD = math.sqrt((xc - xd)**2 + (yc - yd)**2)\n",
    "DA = math.sqrt((xd - xa)**2 + (yd - ya)**2)\n",
    "AC = math.sqrt((xa - xc)**2 + (ya - yc)**2)\n",
    "BD = math.sqrt((xb - xd)**2 + (yb - yd)**2)\n",
    "\n",
    "# Diện tích tam giác ABC\n",
    "S1 = 1/4 * math.sqrt((AB + BC + AC)*(AB + BC - AC)*(AB + AC - BC)*(BC + AC - AB))\n",
    "print('S1:', S1)\n",
    "\n",
    "# Diện tích tam giác ABD\n",
    "S2 = 1/4 * math.sqrt((AB + BD + DA)*(AB + BD - DA)*(AB + DA - BD)*(BD + DA - AB))\n",
    "print('S2:', S2)\n",
    "\n",
    "# Diện tích tam giác ACD\n",
    "S3 = 1/4 * math.sqrt((AC + CD + DA)*(AC + CD - DA)*(AC + DA - CD)*(CD + DA - AC))\n",
    "print('S3:', S3)\n",
    "\n",
    "# Diện tích tam giác BCD\n",
    "S4 = 1/4 * math.sqrt((BC + CD + BD)*(BC + CD - BD)*(BC + BD - CD)*(CD + BD - BC))\n",
    "print('S4:', S4)\n",
    "\n",
    "tugiaclom = ((S1 + S2 + S3) == S4) or ((S1 + S2 + S4) ==S3) or ((S1 + S3 + S4) == S2) or ((S2 + S3 + S4) == S1)\n",
    "tugiacloi = not(tugiaclom)\n",
    "\n",
    "print('Tứ Giác Lõm:', tugiaclom)\n",
    "print('Tứ Giác Lồi:', tugiacloi)"
   ]
  },
  {
   "cell_type": "code",
   "execution_count": 9,
   "id": "a48d3c19",
   "metadata": {},
   "outputs": [
    {
     "ename": "IndentationError",
     "evalue": "expected an indented block (190901748.py, line 13)",
     "output_type": "error",
     "traceback": [
      "\u001b[1;36m  Input \u001b[1;32mIn [9]\u001b[1;36m\u001b[0m\n\u001b[1;33m    t.goto(xb, yb)\u001b[0m\n\u001b[1;37m    ^\u001b[0m\n\u001b[1;31mIndentationError\u001b[0m\u001b[1;31m:\u001b[0m expected an indented block\n"
     ]
    }
   ],
   "source": [
    "#Vẽ tứ giác\n",
    "import turtle\n",
    "t=turtle.Turtle()\n",
    "c = input('Nhập màu:')\n",
    "t.fillcolor(c)\n",
    "\n",
    "t.penup()\n",
    "t.goto(xa, ya)\n",
    "t.pendown()\n",
    "\n",
    "t.begin_fill()\n",
    "t.goto(xb, yb)\n",
    "t.goto(xc, yc)\n",
    "t.goto(xd, yd)\n",
    "t.goto(xa, ya)\n",
    "t.end_fill()\n",
    "turtle.done()\n",
    "\n",
    "t.goto(xb, yb)\n",
    "t.goto(xc, yc)\n",
    "t.goto(xd, yd)\n",
    "t.goto(xb, yb)\n",
    "t.goto(xc, yc)\n",
    "t.goto(xa, ya)\n",
    "t.end_fill()\n",
    "turtle.done()"
   ]
  },
  {
   "cell_type": "code",
   "execution_count": null,
   "id": "a8cc292a",
   "metadata": {},
   "outputs": [],
   "source": []
  }
 ],
 "metadata": {
  "kernelspec": {
   "display_name": "Python 3 (ipykernel)",
   "language": "python",
   "name": "python3"
  },
  "language_info": {
   "codemirror_mode": {
    "name": "ipython",
    "version": 3
   },
   "file_extension": ".py",
   "mimetype": "text/x-python",
   "name": "python",
   "nbconvert_exporter": "python",
   "pygments_lexer": "ipython3",
   "version": "3.9.12"
  }
 },
 "nbformat": 4,
 "nbformat_minor": 5
}
