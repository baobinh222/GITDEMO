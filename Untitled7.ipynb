{
 "cells": [
  {
   "cell_type": "code",
   "execution_count": 1,
   "id": "0aaa88fa",
   "metadata": {},
   "outputs": [
    {
     "name": "stdout",
     "output_type": "stream",
     "text": [
      "python programing course\n"
     ]
    }
   ],
   "source": [
    "import mymodule\n"
   ]
  },
  {
   "cell_type": "code",
   "execution_count": 5,
   "id": "365de983",
   "metadata": {},
   "outputs": [
    {
     "name": "stdout",
     "output_type": "stream",
     "text": [
      "Nhập hoành độ điểm A: 3\n",
      "Nhập tung độ điểm A: 4\n",
      "Nhập hoành độ điểm B: 1\n",
      "Nhập tung độ điểm B: 2\n",
      "Nhập hoành độ điểm C: 3\n",
      "Nhập tung độ điểm C: 3\n",
      "Tung độ điểm D là: 1.0\n",
      "Hoành độ điểm D là: 3.0\n"
     ]
    }
   ],
   "source": [
    "xa = float(input('Nhập hoành độ điểm A: '))\n",
    "ya = float(input('Nhập tung độ điểm A: '))\n",
    "xb = float(input('Nhập hoành độ điểm B: '))\n",
    "yb = float(input('Nhập tung độ điểm B: '))\n",
    "xc = float(input('Nhập hoành độ điểm C: '))\n",
    "yc = float(input('Nhập tung độ điểm C: '))\n",
    "xn = (xa + xb)/2\n",
    "yn = (ya + yb)/2\n",
    "xd = 2*xn - xc\n",
    "yd = 2*yn - yc\n",
    "print('Tung độ điểm D là:', str(xd))\n",
    "print('Hoành độ điểm D là:', str(yd))\n",
    "\n",
    "import turtle\n",
    "t=turtle.Turtle()\n",
    "t.color('red')\n",
    "t.goto(xa, ya)\n",
    "\n",
    "turtle.done()"
   ]
  },
  {
   "cell_type": "code",
   "execution_count": null,
   "id": "98e52864",
   "metadata": {},
   "outputs": [],
   "source": []
  }
 ],
 "metadata": {
  "kernelspec": {
   "display_name": "Python 3 (ipykernel)",
   "language": "python",
   "name": "python3"
  },
  "language_info": {
   "codemirror_mode": {
    "name": "ipython",
    "version": 3
   },
   "file_extension": ".py",
   "mimetype": "text/x-python",
   "name": "python",
   "nbconvert_exporter": "python",
   "pygments_lexer": "ipython3",
   "version": "3.9.12"
  }
 },
 "nbformat": 4,
 "nbformat_minor": 5
}
