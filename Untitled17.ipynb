{
 "cells": [
  {
   "cell_type": "code",
   "execution_count": 6,
   "id": "e6cb4e02",
   "metadata": {},
   "outputs": [
    {
     "name": "stdout",
     "output_type": "stream",
     "text": [
      "Tổng thu nhập là:10000000\n",
      "Số người phụ thuộc:0\n",
      "Không đóng thuế TNCN\n"
     ]
    }
   ],
   "source": [
    "a = int(input('Tổng thu nhập là:'))\n",
    "b = int(input('Số người phụ thuộc:'))\n",
    "#Thu nhập tính thuế \n",
    "c = a - 11000000 - b * 4400000\n",
    "#print(c)\n",
    "\n",
    "if c<=0:\n",
    "    print('Không đóng thuế TNCN')\n",
    "elif c <= 5000000:\n",
    "    thue = c*5/100\n",
    "    print('Thuế TNCN phải đóng là:',thue)\n",
    "elif c <= 10000000:\n",
    "    thue = c*20/200\n",
    "    print('Thuế TNCN phải đóng là:',thue)\n",
    "elif c<=18000000:\n",
    "    thue = c*15/100\n",
    "    print('Thuế TNCN phải đóng là:',thue)\n",
    "elif c<=32000000:\n",
    "    thue = c*20/100\n",
    "    print('Thuế TNCN phải đóng là:',thue)\n",
    "elif c<=52000000:\n",
    "    thue = c*25/100\n",
    "    print('Thuế TNCN phải đóng là:',thue)\n",
    "elif c<=80000000:\n",
    "    thue = c*30/100\n",
    "    print('Thuế TNCN phải đóng là:',thue)\n",
    "else:\n",
    "    thue = c*35/100\n",
    "    print('Thuế TNCN phải đóng là:',thue)"
   ]
  },
  {
   "cell_type": "code",
   "execution_count": 9,
   "id": "f695cd60",
   "metadata": {},
   "outputs": [
    {
     "name": "stdout",
     "output_type": "stream",
     "text": [
      "Hoành độ điểm P = 5\n",
      "Tung độ điểm P = 2\n",
      "Điểm P không thuộc vùng D\n"
     ]
    }
   ],
   "source": [
    "import math\n",
    "x = int(input('Hoành độ điểm P = '))\n",
    "y = int(input('Tung độ điểm P = '))\n",
    "test1 = 'Điểm P nằm trong vùng D'\n",
    "test2 = 'Điểm P không thuộc vùng D'\n",
    "if -2<=x<=0 and -2<=y<=2:\n",
    "    if (x**2 + y**2) <= 4:\n",
    "        print(test1)\n",
    "    else:\n",
    "        print(test2)\n",
    "elif 0<=x<=6 and -2<=y<=2:\n",
    "    if (x+3*y-6) <= 0 and (x-3*y-6) <= 0:\n",
    "        print(test1)\n",
    "    else:\n",
    "        print(test2)\n",
    "else:\n",
    "    print(test2)"
   ]
  },
  {
   "cell_type": "code",
   "execution_count": null,
   "id": "0537db9c",
   "metadata": {},
   "outputs": [],
   "source": []
  }
 ],
 "metadata": {
  "kernelspec": {
   "display_name": "Python 3 (ipykernel)",
   "language": "python",
   "name": "python3"
  },
  "language_info": {
   "codemirror_mode": {
    "name": "ipython",
    "version": 3
   },
   "file_extension": ".py",
   "mimetype": "text/x-python",
   "name": "python",
   "nbconvert_exporter": "python",
   "pygments_lexer": "ipython3",
   "version": "3.9.12"
  }
 },
 "nbformat": 4,
 "nbformat_minor": 5
}
