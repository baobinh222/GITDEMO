{
 "cells": [
  {
   "cell_type": "code",
   "execution_count": 26,
   "id": "d99cb23c",
   "metadata": {},
   "outputs": [
    {
     "name": "stdout",
     "output_type": "stream",
     "text": [
      "Nhập mã vạch gồm 13 số:4902778120973\n",
      "4902778120973 không phải là 1 mã vạch đúng\n"
     ]
    }
   ],
   "source": [
    "MV = input('Nhập mã vạch gồm 13 số:')\n",
    "i = 0\n",
    "A = 0 #int(MV[i])\n",
    "B = 0 #int(MV[i+1])\n",
    "while i<=(len(MV)-2):\n",
    "    A += int(MV[i])\n",
    "    B += int(MV[i+1])\n",
    "    i += 2\n",
    "C = int(MV[-1])\n",
    "D = A +3*B\n",
    "if D%10 != 0:\n",
    "     F=10-(D%10)\n",
    "else:\n",
    "     F=0\n",
    "if F==C:\n",
    "    print(f'{MV} là mã vạch đúng')\n",
    "else:\n",
    "    print(f'{MV} không phải là 1 mã vạch đúng')\n"
   ]
  },
  {
   "cell_type": "code",
   "execution_count": 33,
   "id": "97e96ac9",
   "metadata": {},
   "outputs": [
    {
     "name": "stdout",
     "output_type": "stream",
     "text": [
      "n=13\n",
      "3 9 "
     ]
    }
   ],
   "source": [
    "n = int(input('n='))\n",
    "i = 0\n",
    "while i<n:\n",
    "    if i%3==0 and i%6!=0:\n",
    "        print(i,end=' ')\n",
    "    i+=1"
   ]
  },
  {
   "cell_type": "code",
   "execution_count": null,
   "id": "269cf313",
   "metadata": {},
   "outputs": [],
   "source": []
  }
 ],
 "metadata": {
  "kernelspec": {
   "display_name": "Python 3 (ipykernel)",
   "language": "python",
   "name": "python3"
  },
  "language_info": {
   "codemirror_mode": {
    "name": "ipython",
    "version": 3
   },
   "file_extension": ".py",
   "mimetype": "text/x-python",
   "name": "python",
   "nbconvert_exporter": "python",
   "pygments_lexer": "ipython3",
   "version": "3.9.12"
  }
 },
 "nbformat": 4,
 "nbformat_minor": 5
}
