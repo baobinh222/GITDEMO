{
 "cells": [
  {
   "cell_type": "code",
   "execution_count": null,
   "id": "f23a3dc9",
   "metadata": {},
   "outputs": [
    {
     "name": "stdout",
     "output_type": "stream",
     "text": [
      "Nhập chiều dài lá cờ:200\n",
      "133.33333333333334\n"
     ]
    }
   ],
   "source": [
    "x = float(input('Nhập chiều dài lá cờ:'))\n",
    "y = 2*x/3\n",
    "print(y)\n",
    "\n",
    "import turtle\n",
    "t=turtle.Turtle()\n",
    "t.color('red')\n",
    "t.fillcolor('red')\n",
    "t.begin_fill()\n",
    "t.forward(x)\n",
    "t.right(90)\n",
    "t.forward(y)\n",
    "t.right(90)\n",
    "t.forward(x)\n",
    "t.right(90)\n",
    "t.forward(y)\n",
    "t.end_fill()\n",
    "\n",
    "t.penup()\n",
    "t.right(90)\n",
    "t.forward(x/3)\n",
    "t.right(90)\n",
    "t.forward(y*5/12)\n",
    "t.pendown()\n",
    "\n",
    "t.fillcolor('white')\n",
    "t.begin_fill()\n",
    "t.forward(y/6)\n",
    "t.left(90)\n",
    "t.forward(y/6)\n",
    "t.right(90)\n",
    "t.forward(y/6)\n",
    "t.left(90)\n",
    "t.forward(y/6)\n",
    "t.left(90)\n",
    "t.forward(y/6)\n",
    "t.right(90)\n",
    "t.forward(y/6)\n",
    "t.left(90)\n",
    "t.forward(y/6)\n",
    "t.left(90)\n",
    "t.forward(y/6)\n",
    "t.right(90)\n",
    "t.forward(y/6)\n",
    "t.left(90)\n",
    "t.forward(y/6)\n",
    "t.left(90)\n",
    "t.forward(y/6)\n",
    "t.right(90)\n",
    "t.forward(y/6)\n",
    "t.end_fill()\n",
    "t.hideturtle()\n",
    "\n",
    "turtle.done()"
   ]
  },
  {
   "cell_type": "code",
   "execution_count": null,
   "id": "4cbee8a6",
   "metadata": {},
   "outputs": [],
   "source": []
  }
 ],
 "metadata": {
  "kernelspec": {
   "display_name": "Python 3 (ipykernel)",
   "language": "python",
   "name": "python3"
  },
  "language_info": {
   "codemirror_mode": {
    "name": "ipython",
    "version": 3
   },
   "file_extension": ".py",
   "mimetype": "text/x-python",
   "name": "python",
   "nbconvert_exporter": "python",
   "pygments_lexer": "ipython3",
   "version": "3.9.12"
  }
 },
 "nbformat": 4,
 "nbformat_minor": 5
}
